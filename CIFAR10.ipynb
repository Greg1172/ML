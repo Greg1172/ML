{
  "nbformat": 4,
  "nbformat_minor": 0,
  "metadata": {
    "colab": {
      "name": "Untitled4.ipynb",
      "provenance": [],
      "authorship_tag": "ABX9TyMRVshO/k3UhuNGU+YWMorp",
      "include_colab_link": true
    },
    "kernelspec": {
      "name": "python3",
      "display_name": "Python 3"
    },
    "widgets": {
      "application/vnd.jupyter.widget-state+json": {
        "54a8e21feb9849c2aead56510563d5a3": {
          "model_module": "@jupyter-widgets/controls",
          "model_name": "HBoxModel",
          "state": {
            "_view_name": "HBoxView",
            "_dom_classes": [],
            "_model_name": "HBoxModel",
            "_view_module": "@jupyter-widgets/controls",
            "_model_module_version": "1.5.0",
            "_view_count": null,
            "_view_module_version": "1.5.0",
            "box_style": "",
            "layout": "IPY_MODEL_f97b86207e0b4711afa12b027291778e",
            "_model_module": "@jupyter-widgets/controls",
            "children": [
              "IPY_MODEL_2afb379ee63c42d5bcf286ee5f066124",
              "IPY_MODEL_42842805646c4959963a262cc025201d"
            ]
          }
        },
        "f97b86207e0b4711afa12b027291778e": {
          "model_module": "@jupyter-widgets/base",
          "model_name": "LayoutModel",
          "state": {
            "_view_name": "LayoutView",
            "grid_template_rows": null,
            "right": null,
            "justify_content": null,
            "_view_module": "@jupyter-widgets/base",
            "overflow": null,
            "_model_module_version": "1.2.0",
            "_view_count": null,
            "flex_flow": null,
            "width": null,
            "min_width": null,
            "border": null,
            "align_items": null,
            "bottom": null,
            "_model_module": "@jupyter-widgets/base",
            "top": null,
            "grid_column": null,
            "overflow_y": null,
            "overflow_x": null,
            "grid_auto_flow": null,
            "grid_area": null,
            "grid_template_columns": null,
            "flex": null,
            "_model_name": "LayoutModel",
            "justify_items": null,
            "grid_row": null,
            "max_height": null,
            "align_content": null,
            "visibility": null,
            "align_self": null,
            "height": null,
            "min_height": null,
            "padding": null,
            "grid_auto_rows": null,
            "grid_gap": null,
            "max_width": null,
            "order": null,
            "_view_module_version": "1.2.0",
            "grid_template_areas": null,
            "object_position": null,
            "object_fit": null,
            "grid_auto_columns": null,
            "margin": null,
            "display": null,
            "left": null
          }
        },
        "2afb379ee63c42d5bcf286ee5f066124": {
          "model_module": "@jupyter-widgets/controls",
          "model_name": "IntProgressModel",
          "state": {
            "_view_name": "ProgressView",
            "style": "IPY_MODEL_e97c7c1b41814f06b488512196877770",
            "_dom_classes": [],
            "description": "",
            "_model_name": "IntProgressModel",
            "bar_style": "info",
            "max": 1,
            "_view_module": "@jupyter-widgets/controls",
            "_model_module_version": "1.5.0",
            "value": 1,
            "_view_count": null,
            "_view_module_version": "1.5.0",
            "orientation": "horizontal",
            "min": 0,
            "description_tooltip": null,
            "_model_module": "@jupyter-widgets/controls",
            "layout": "IPY_MODEL_cd26a5ff53f1495e9136caddecd32bb5"
          }
        },
        "42842805646c4959963a262cc025201d": {
          "model_module": "@jupyter-widgets/controls",
          "model_name": "HTMLModel",
          "state": {
            "_view_name": "HTMLView",
            "style": "IPY_MODEL_52497c55b08c4335911f1fc9029fb5e0",
            "_dom_classes": [],
            "description": "",
            "_model_name": "HTMLModel",
            "placeholder": "​",
            "_view_module": "@jupyter-widgets/controls",
            "_model_module_version": "1.5.0",
            "value": " 170500096/? [00:20&lt;00:00, 50930041.74it/s]",
            "_view_count": null,
            "_view_module_version": "1.5.0",
            "description_tooltip": null,
            "_model_module": "@jupyter-widgets/controls",
            "layout": "IPY_MODEL_700f1fece93143d4b867d56884b6e172"
          }
        },
        "e97c7c1b41814f06b488512196877770": {
          "model_module": "@jupyter-widgets/controls",
          "model_name": "ProgressStyleModel",
          "state": {
            "_view_name": "StyleView",
            "_model_name": "ProgressStyleModel",
            "description_width": "initial",
            "_view_module": "@jupyter-widgets/base",
            "_model_module_version": "1.5.0",
            "_view_count": null,
            "_view_module_version": "1.2.0",
            "bar_color": null,
            "_model_module": "@jupyter-widgets/controls"
          }
        },
        "cd26a5ff53f1495e9136caddecd32bb5": {
          "model_module": "@jupyter-widgets/base",
          "model_name": "LayoutModel",
          "state": {
            "_view_name": "LayoutView",
            "grid_template_rows": null,
            "right": null,
            "justify_content": null,
            "_view_module": "@jupyter-widgets/base",
            "overflow": null,
            "_model_module_version": "1.2.0",
            "_view_count": null,
            "flex_flow": null,
            "width": null,
            "min_width": null,
            "border": null,
            "align_items": null,
            "bottom": null,
            "_model_module": "@jupyter-widgets/base",
            "top": null,
            "grid_column": null,
            "overflow_y": null,
            "overflow_x": null,
            "grid_auto_flow": null,
            "grid_area": null,
            "grid_template_columns": null,
            "flex": null,
            "_model_name": "LayoutModel",
            "justify_items": null,
            "grid_row": null,
            "max_height": null,
            "align_content": null,
            "visibility": null,
            "align_self": null,
            "height": null,
            "min_height": null,
            "padding": null,
            "grid_auto_rows": null,
            "grid_gap": null,
            "max_width": null,
            "order": null,
            "_view_module_version": "1.2.0",
            "grid_template_areas": null,
            "object_position": null,
            "object_fit": null,
            "grid_auto_columns": null,
            "margin": null,
            "display": null,
            "left": null
          }
        },
        "52497c55b08c4335911f1fc9029fb5e0": {
          "model_module": "@jupyter-widgets/controls",
          "model_name": "DescriptionStyleModel",
          "state": {
            "_view_name": "StyleView",
            "_model_name": "DescriptionStyleModel",
            "description_width": "",
            "_view_module": "@jupyter-widgets/base",
            "_model_module_version": "1.5.0",
            "_view_count": null,
            "_view_module_version": "1.2.0",
            "_model_module": "@jupyter-widgets/controls"
          }
        },
        "700f1fece93143d4b867d56884b6e172": {
          "model_module": "@jupyter-widgets/base",
          "model_name": "LayoutModel",
          "state": {
            "_view_name": "LayoutView",
            "grid_template_rows": null,
            "right": null,
            "justify_content": null,
            "_view_module": "@jupyter-widgets/base",
            "overflow": null,
            "_model_module_version": "1.2.0",
            "_view_count": null,
            "flex_flow": null,
            "width": null,
            "min_width": null,
            "border": null,
            "align_items": null,
            "bottom": null,
            "_model_module": "@jupyter-widgets/base",
            "top": null,
            "grid_column": null,
            "overflow_y": null,
            "overflow_x": null,
            "grid_auto_flow": null,
            "grid_area": null,
            "grid_template_columns": null,
            "flex": null,
            "_model_name": "LayoutModel",
            "justify_items": null,
            "grid_row": null,
            "max_height": null,
            "align_content": null,
            "visibility": null,
            "align_self": null,
            "height": null,
            "min_height": null,
            "padding": null,
            "grid_auto_rows": null,
            "grid_gap": null,
            "max_width": null,
            "order": null,
            "_view_module_version": "1.2.0",
            "grid_template_areas": null,
            "object_position": null,
            "object_fit": null,
            "grid_auto_columns": null,
            "margin": null,
            "display": null,
            "left": null
          }
        }
      }
    }
  },
  "cells": [
    {
      "cell_type": "markdown",
      "metadata": {
        "id": "view-in-github",
        "colab_type": "text"
      },
      "source": [
        "<a href=\"https://colab.research.google.com/github/Greg1172/ML/blob/master/CIFAR10.ipynb\" target=\"_parent\"><img src=\"https://colab.research.google.com/assets/colab-badge.svg\" alt=\"Open In Colab\"/></a>"
      ]
    },
    {
      "cell_type": "code",
      "metadata": {
        "id": "NMuPlKf6hUXO",
        "colab_type": "code",
        "outputId": "6def4f72-d673-49e1-9814-97e121e6789a",
        "colab": {
          "base_uri": "https://localhost:8080/",
          "height": 35
        }
      },
      "source": [
        "import os\n",
        "import torch\n",
        "import torch.nn as nn\n",
        "import torch.optim as optim\n",
        "import torch.nn.functional as F\n",
        "import torch.backends.cudnn as cudnn\n",
        "import torchvision\n",
        "import torchvision.transforms as transforms\n",
        "from tqdm import tqdm_notebook\n",
        "import matplotlib.pyplot as plt\n",
        "%matplotlib inline\n",
        "\n",
        "device = torch.device('cuda') if torch.cuda.is_available() else torch.device('cpu')\n",
        "print(device)"
      ],
      "execution_count": 0,
      "outputs": [
        {
          "output_type": "stream",
          "text": [
            "cpu\n"
          ],
          "name": "stdout"
        }
      ]
    },
    {
      "cell_type": "code",
      "metadata": {
        "id": "Mqv8-l8Z8qeP",
        "colab_type": "code",
        "outputId": "c306fb07-b5d7-4446-e948-eb723d402cd6",
        "colab": {
          "base_uri": "https://localhost:8080/",
          "height": 104,
          "referenced_widgets": [
            "54a8e21feb9849c2aead56510563d5a3",
            "f97b86207e0b4711afa12b027291778e",
            "2afb379ee63c42d5bcf286ee5f066124",
            "42842805646c4959963a262cc025201d",
            "e97c7c1b41814f06b488512196877770",
            "cd26a5ff53f1495e9136caddecd32bb5",
            "52497c55b08c4335911f1fc9029fb5e0",
            "700f1fece93143d4b867d56884b6e172"
          ]
        }
      },
      "source": [
        "transform_train = transforms.Compose([\n",
        "                                      transforms.ToTensor(),\n",
        "                                      transforms.Normalize((0.4914, 0.4822, 0.4465),\n",
        "                                                           (0.2023, 0.1994, 0.2010)),\n",
        "])\n",
        "\n",
        "transform_test = transforms.Compose([\n",
        "                                      transforms.ToTensor(),\n",
        "                                      transforms.Normalize((0.4914, 0.4822, 0.4465),\n",
        "                                                           (0.2023, 0.1994, 0.2010)),\n",
        "])\n",
        "\n",
        "trainset = torchvision.datasets.CIFAR10(\n",
        "    root='./data',\n",
        "    download=True,\n",
        "    transform=transform_train,\n",
        ")\n",
        "\n",
        "trainloader = torch.utils.data.DataLoader(\n",
        "    trainset,\n",
        "    batch_size=128,\n",
        "    shuffle=True,\n",
        "    num_workers=2,\n",
        ")\n",
        "\n",
        "testset = torchvision.datasets.CIFAR10(\n",
        "    root='./data',\n",
        "    download=True,\n",
        "    transform=transform_test,\n",
        ")\n",
        "\n",
        "testloader = torch.utils.data.DataLoader(\n",
        "    testset,\n",
        "    batch_size=100,\n",
        "    shuffle=False,\n",
        "    num_workers=2,\n",
        ")"
      ],
      "execution_count": 0,
      "outputs": [
        {
          "output_type": "stream",
          "text": [
            "Downloading https://www.cs.toronto.edu/~kriz/cifar-10-python.tar.gz to ./data/cifar-10-python.tar.gz\n"
          ],
          "name": "stdout"
        },
        {
          "output_type": "display_data",
          "data": {
            "application/vnd.jupyter.widget-view+json": {
              "model_id": "54a8e21feb9849c2aead56510563d5a3",
              "version_minor": 0,
              "version_major": 2
            },
            "text/plain": [
              "HBox(children=(IntProgress(value=1, bar_style='info', max=1), HTML(value='')))"
            ]
          },
          "metadata": {
            "tags": []
          }
        },
        {
          "output_type": "stream",
          "text": [
            "Extracting ./data/cifar-10-python.tar.gz to ./data\n",
            "Files already downloaded and verified\n"
          ],
          "name": "stdout"
        }
      ]
    },
    {
      "cell_type": "code",
      "metadata": {
        "id": "BA3OfXYxACHP",
        "colab_type": "code",
        "colab": {}
      },
      "source": [
        "class Flatten(nn.Module):\n",
        "  def forward(self, x):\n",
        "    return x.view(x.shape[0], -1)"
      ],
      "execution_count": 0,
      "outputs": []
    },
    {
      "cell_type": "code",
      "metadata": {
        "id": "FiJUxj-Wazup",
        "colab_type": "code",
        "colab": {}
      },
      "source": [
        "model = nn.Sequential()\n",
        "\n",
        "model.add_module('conv1', nn.Conv2d(3, 64, 3))\n",
        "model.add_module('relu', nn.ReLU())\n",
        "model.add_module('conv2', nn.Conv2d(64, 10, 3))\n",
        "model.add_module('relu', nn.ReLU())\n",
        "model.add_module('flat', Flatten())\n",
        "model.add_module('dense', nn.Linear(10*28*28, 10))\n"
      ],
      "execution_count": 0,
      "outputs": []
    },
    {
      "cell_type": "code",
      "metadata": {
        "id": "8mXq4xmlcKYn",
        "colab_type": "code",
        "colab": {}
      },
      "source": [
        "import torchsummary"
      ],
      "execution_count": 0,
      "outputs": []
    },
    {
      "cell_type": "code",
      "metadata": {
        "id": "-6ZQ0r-Pn3UQ",
        "colab_type": "code",
        "outputId": "9f59fd46-c685-4aae-930d-92bec156fd0d",
        "colab": {
          "base_uri": "https://localhost:8080/",
          "height": 345
        }
      },
      "source": [
        "torchsummary.summary(model, (3, 32, 32))"
      ],
      "execution_count": 0,
      "outputs": [
        {
          "output_type": "stream",
          "text": [
            "----------------------------------------------------------------\n",
            "        Layer (type)               Output Shape         Param #\n",
            "================================================================\n",
            "            Conv2d-1           [-1, 64, 30, 30]           1,792\n",
            "              ReLU-2           [-1, 64, 30, 30]               0\n",
            "            Conv2d-3           [-1, 10, 28, 28]           5,770\n",
            "           Flatten-4                 [-1, 7840]               0\n",
            "            Linear-5                   [-1, 10]          78,410\n",
            "================================================================\n",
            "Total params: 85,972\n",
            "Trainable params: 85,972\n",
            "Non-trainable params: 0\n",
            "----------------------------------------------------------------\n",
            "Input size (MB): 0.01\n",
            "Forward/backward pass size (MB): 1.00\n",
            "Params size (MB): 0.33\n",
            "Estimated Total Size (MB): 1.34\n",
            "----------------------------------------------------------------\n"
          ],
          "name": "stdout"
        }
      ]
    },
    {
      "cell_type": "markdown",
      "metadata": {
        "id": "7d_mKCisv943",
        "colab_type": "text"
      },
      "source": [
        "Train/Test F"
      ]
    },
    {
      "cell_type": "code",
      "metadata": {
        "id": "YPdYc19QoKa7",
        "colab_type": "code",
        "colab": {}
      },
      "source": [
        "def train(model, optim, criterion, dataloader, epoch, device):\n",
        "  total = 0\n",
        "  correct = 0\n",
        "  train_loss = 0\n",
        "  model.train()\n",
        "  for data, label in dataloader:\n",
        "    data, label = data.to(device), label.to(device)\n",
        "    optim.zero_grad()\n",
        "    output = model(data)\n",
        "    loss = criterion(output, label)\n",
        "    loss.backward()\n",
        "    optim.step()\n",
        "\n",
        "    train_loss += loss.item()\n",
        "    pred = output.argmax(1)\n",
        "    total += output.shape[0]\n",
        "    correct += pred.eq(label).sum().item()\n",
        "  return train_loss/total, 100.*correct/total"
      ],
      "execution_count": 0,
      "outputs": []
    },
    {
      "cell_type": "code",
      "metadata": {
        "id": "IQHNYN7kzn-q",
        "colab_type": "code",
        "colab": {}
      },
      "source": [
        "def test(model, criterion, dataloader, epoch, device, best_acc, model_name='model'):\n",
        "  total = 0\n",
        "  correct = 0\n",
        "  test_loss = 0\n",
        "  model.eval()\n",
        "  with torch.no_grad():\n",
        "    for data, label in dataloader:\n",
        "      data, label = data.to(device), label.to(device)\n",
        "      output = model(data)\n",
        "      loss = criterion(output, label)\n",
        "      test_loss += loss\n",
        "      pred = output.argmax(1)\n",
        "      correct += torch.eq(pred, label).sum().item()\n",
        "      total += data.shape[0]\n",
        "    acc = 100. * correct / total\n",
        "    if acc > best_acc:\n",
        "      #print('Saving...')\n",
        "      state = {'net' : model.state_dict(), 'acc' : acc, 'epoch' : epoch}\n",
        "      if not os.path.isdir('checkpoint'):\n",
        "        os.mkdir('checkpoint')\n",
        "      torch.save(state, './checkpoint/cktp_{}.pth'.format(model_name))\n",
        "  return test_loss/total, acc"
      ],
      "execution_count": 0,
      "outputs": []
    },
    {
      "cell_type": "code",
      "metadata": {
        "id": "FyQaa-X5EUfe",
        "colab_type": "code",
        "colab": {}
      },
      "source": [
        "from IPython.display import clear_output\n",
        "import numpy as np"
      ],
      "execution_count": 0,
      "outputs": []
    },
    {
      "cell_type": "markdown",
      "metadata": {
        "id": "OjW1HvNyEXTf",
        "colab_type": "text"
      },
      "source": [
        "Train model\n"
      ]
    },
    {
      "cell_type": "code",
      "metadata": {
        "id": "dW25h1TOEi9z",
        "colab_type": "code",
        "colab": {}
      },
      "source": [
        "model = model.to(device)\n",
        "criterion = nn.CrossEntropyLoss()\n",
        "optimizer = optim.SGD(model.parameters(),\n",
        "                      lr = 0.001, momentum=0.9, weight_decay=5e-4)\n",
        "scheduler = optim.lr_scheduler.StepLR(optimizer, 2, gamma=0.5)"
      ],
      "execution_count": 0,
      "outputs": []
    },
    {
      "cell_type": "code",
      "metadata": {
        "id": "8JVIoit4FknR",
        "colab_type": "code",
        "outputId": "4f324cc9-6289-4562-ca93-29d39c768026",
        "colab": {
          "base_uri": "https://localhost:8080/",
          "height": 553
        }
      },
      "source": [
        "train_losses = []\n",
        "test_losses = []\n",
        "best_acc = 0\n",
        "best_epoch = -1\n",
        "for i in range(10):\n",
        "  train_loss, train_acc = train(model, optimizer, criterion, trainloader, i, device)\n",
        "  train_losses.append(train_loss)\n",
        "  test_loss, test_acc = test(model, criterion, testloader, i, device, best_acc)\n",
        "  scheduler.step(test_loss)\n",
        "  test_losses.append(test_loss)\n",
        "  best_acc = max(best_acc, test_acc)\n",
        "  best_epoch = i if best_acc == test_acc else best_epoch\n",
        "  clear_output()\n",
        "  plt.figure(figsize=(18,9))\n",
        "  plt.plot(np.arange(len(train_losses)), train_losses, label=f'Train, loss:{train_loss:.4f}, Acc:{train_acc}')\n",
        "  plt.plot(np.arange(len(test_losses)), test_losses, label=f'Test, loss: {train_loss:.4f}, Acc:{test_acc}')\n",
        "  plt.title(f'Epoch{i}')\n",
        "  plt.legend(loc = 'best')\n",
        "  plt.show()"
      ],
      "execution_count": 0,
      "outputs": [
        {
          "output_type": "display_data",
          "data": {
            "image/png": "[encoded data removed]",
            "text/plain": [
              "<Figure size 1296x648 with 1 Axes>"
            ]
          },
          "metadata": {
            "tags": []
          }
        }
      ]
    },
    {
      "cell_type": "code",
      "metadata": {
        "id": "tbGG_2PZXzXW",
        "colab_type": "code",
        "outputId": "b857f6dd-81b3-4035-e40c-ffd7f7e54376",
        "colab": {
          "base_uri": "https://localhost:8080/",
          "height": 35
        }
      },
      "source": [
        "best_acc"
      ],
      "execution_count": 0,
      "outputs": [
        {
          "output_type": "execute_result",
          "data": {
            "text/plain": [
              "66.306"
            ]
          },
          "metadata": {
            "tags": []
          },
          "execution_count": 23
        }
      ]
    },
    {
      "cell_type": "markdown",
      "metadata": {
        "id": "vhkVdCuudhOh",
        "colab_type": "text"
      },
      "source": [
        " Теперь попробуем с batch norm"
      ]
    },
    {
      "cell_type": "code",
      "metadata": {
        "id": "5t2f2sh-bTUK",
        "colab_type": "code",
        "colab": {}
      },
      "source": [
        "model = nn.Sequential()\n",
        "\n",
        "model.add_module('conv1', nn.Conv2d(3,64,3))\n",
        "model.add_module('bn1', nn.BatchNorm2d(64))\n",
        "model.add_module('conv1_relu', nn.ReLU())\n",
        "model.add_module('conv2', nn.Conv2d(64, 10, 3))\n",
        "model.add_module('bn2', nn.BatchNorm2d(10))\n",
        "model.add_module('conv2_relu', nn.ReLU())\n",
        "\n",
        "model.add_module('flat', Flatten())\n",
        "model.add_module('dense', nn.Linear(10*28*28, 10))"
      ],
      "execution_count": 0,
      "outputs": []
    },
    {
      "cell_type": "code",
      "metadata": {
        "id": "4q_UN2tZdSS5",
        "colab_type": "code",
        "colab": {}
      },
      "source": [
        "def train(model, optim, criterion, dataloader, epoch, device):\n",
        "  total = 0\n",
        "  correct = 0\n",
        "  train_loss = 0\n",
        "  model.train()\n",
        "  for data, label in dataloader:\n",
        "    data, label = data.to(device), label.to(device)\n",
        "    optim.zero_grad()\n",
        "    output = model(data)\n",
        "    loss = criterion(output, label)\n",
        "    loss.backward()\n",
        "    optim.step()\n",
        "\n",
        "    train_loss += loss.item()\n",
        "    pred = output.argmax(1)\n",
        "    total += output.shape[0]\n",
        "    correct += pred.eq(label).sum().item()\n",
        "  return train_loss/total, 100.*correct/total"
      ],
      "execution_count": 0,
      "outputs": []
    },
    {
      "cell_type": "code",
      "metadata": {
        "id": "TXRakLxteOYu",
        "colab_type": "code",
        "colab": {}
      },
      "source": [
        "def test(model, criterion, dataloader, epoch, device, best_acc, model_name='model'):\n",
        "  total = 0\n",
        "  correct = 0\n",
        "  test_loss = 0\n",
        "  model.eval()\n",
        "  with torch.no_grad():\n",
        "    for data, label in dataloader:\n",
        "      data, label = data.to(device), label.to(device)\n",
        "      output = model(data)\n",
        "      loss = criterion(output, label)\n",
        "      test_loss += loss\n",
        "      pred = output.argmax(1)\n",
        "      correct += torch.eq(pred, label).sum().item()\n",
        "      total += data.shape[0]\n",
        "    acc = 100. * correct / total\n",
        "    if acc > best_acc:\n",
        "      #print('Saving...')\n",
        "      state = {'net' : model.state_dict(), 'acc' : acc, 'epoch' : epoch}\n",
        "      if not os.path.isdir('checkpoint'):\n",
        "        os.mkdir('checkpoint')\n",
        "      torch.save(state, './checkpoint/cktp_{}.pth'.format(model_name))\n",
        "  return test_loss/total, acc"
      ],
      "execution_count": 0,
      "outputs": []
    },
    {
      "cell_type": "code",
      "metadata": {
        "id": "9NNoBmWXeU0D",
        "colab_type": "code",
        "colab": {}
      },
      "source": [
        "model = model.to(device)\n",
        "criterion = nn.CrossEntropyLoss()\n",
        "optimizer = optim.SGD(model.parameters(),\n",
        "                      lr = 0.001, momentum=0.9, weight_decay=5e-4)\n",
        "scheduler = optim.lr_scheduler.StepLR(optimizer, 2, gamma=0.5)"
      ],
      "execution_count": 0,
      "outputs": []
    },
    {
      "cell_type": "code",
      "metadata": {
        "id": "_v31pKzyeaPV",
        "colab_type": "code",
        "outputId": "d25453b1-76b7-44ce-8c7d-4e2c472c3c69",
        "colab": {
          "base_uri": "https://localhost:8080/",
          "height": 553
        }
      },
      "source": [
        "train_losses = []\n",
        "test_losses = []\n",
        "best_acc = 0\n",
        "best_epoch = -1\n",
        "for i in range(10):\n",
        "  train_loss, train_acc = train(model, optimizer, criterion, trainloader, i, device)\n",
        "  train_losses.append(train_loss)\n",
        "  test_loss, test_acc = test(model, criterion, testloader, i, device, best_acc)\n",
        "  scheduler.step(test_loss)\n",
        "  test_losses.append(test_loss)\n",
        "  best_acc = max(best_acc, test_acc)\n",
        "  best_epoch = i if best_acc == test_acc else best_epoch\n",
        "  clear_output()\n",
        "  plt.figure(figsize=(18,9))\n",
        "  plt.plot(np.arange(len(train_losses)), train_losses, label=f'Train, loss:{train_loss:.4f}, Acc:{train_acc}')\n",
        "  plt.plot(np.arange(len(test_losses)), test_losses, label=f'Test, loss: {train_loss:.4f}, Acc:{test_acc}')\n",
        "  plt.title(f'Epoch{i}')\n",
        "  plt.legend(loc = 'best')\n",
        "  plt.show()"
      ],
      "execution_count": 0,
      "outputs": [
        {
          "output_type": "display_data",
          "data": {
            "image/png": "[encoded data removed]",
            "text/plain": [
              "<Figure size 1296x648 with 1 Axes>"
            ]
          },
          "metadata": {
            "tags": []
          }
        }
      ]
    },
    {
      "cell_type": "code",
      "metadata": {
        "id": "472_-YaNlk_Y",
        "colab_type": "code",
        "outputId": "eb7a405d-c05f-48d0-d4d4-e5c5953e1fd1",
        "colab": {
          "base_uri": "https://localhost:8080/",
          "height": 35
        }
      },
      "source": [
        "best_acc"
      ],
      "execution_count": 0,
      "outputs": [
        {
          "output_type": "execute_result",
          "data": {
            "text/plain": [
              "72.902"
            ]
          },
          "metadata": {
            "tags": []
          },
          "execution_count": 36
        }
      ]
    },
    {
      "cell_type": "code",
      "metadata": {
        "id": "RgBOs6s1K0co",
        "colab_type": "code",
        "colab": {}
      },
      "source": [
        ""
      ],
      "execution_count": 0,
      "outputs": []
    }
  ]
}